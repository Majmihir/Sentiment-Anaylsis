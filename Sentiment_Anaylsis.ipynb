{
 "cells": [
  {
   "cell_type": "code",
   "execution_count": 1,
   "id": "c68a7035",
   "metadata": {},
   "outputs": [],
   "source": [
    "import pandas as pd\n",
    "import numpy as np\n",
    "import re\n",
    "from nltk.corpus import stopwords\n",
    "from nltk.stem.porter import PorterStemmer\n",
    "from sklearn.feature_extraction.text import TfidfVectorizer\n",
    "from sklearn.model_selection import train_test_split\n",
    "from sklearn.linear_model import LogisticRegression\n",
    "from sklearn.metrics import accuracy_score"
   ]
  },
  {
   "cell_type": "code",
   "execution_count": 2,
   "id": "11f81f2c",
   "metadata": {
    "scrolled": true
   },
   "outputs": [
    {
     "name": "stdout",
     "output_type": "stream",
     "text": [
      "showing info https://raw.githubusercontent.com/nltk/nltk_data/gh-pages/index.xml\n"
     ]
    },
    {
     "data": {
      "text/plain": [
       "True"
      ]
     },
     "execution_count": 2,
     "metadata": {},
     "output_type": "execute_result"
    }
   ],
   "source": [
    "import nltk\n",
    "nltk.download()"
   ]
  },
  {
   "cell_type": "code",
   "execution_count": 3,
   "id": "a8b58e75",
   "metadata": {},
   "outputs": [],
   "source": [
    "data=pd.read_csv(\"Twitter_training.csv\", encoding = 'ISO-8859-1')"
   ]
  },
  {
   "cell_type": "code",
   "execution_count": 4,
   "id": "2d79e769",
   "metadata": {},
   "outputs": [
    {
     "data": {
      "text/html": [
       "<div>\n",
       "<style scoped>\n",
       "    .dataframe tbody tr th:only-of-type {\n",
       "        vertical-align: middle;\n",
       "    }\n",
       "\n",
       "    .dataframe tbody tr th {\n",
       "        vertical-align: top;\n",
       "    }\n",
       "\n",
       "    .dataframe thead th {\n",
       "        text-align: right;\n",
       "    }\n",
       "</style>\n",
       "<table border=\"1\" class=\"dataframe\">\n",
       "  <thead>\n",
       "    <tr style=\"text-align: right;\">\n",
       "      <th></th>\n",
       "      <th>polarity of tweet</th>\n",
       "      <th>id of the tweet</th>\n",
       "      <th>date of the tweet</th>\n",
       "      <th>query</th>\n",
       "      <th>user</th>\n",
       "      <th>text of the tweet</th>\n",
       "    </tr>\n",
       "  </thead>\n",
       "  <tbody>\n",
       "    <tr>\n",
       "      <th>0</th>\n",
       "      <td>0</td>\n",
       "      <td>1467810672</td>\n",
       "      <td>Mon Apr 06 22:19:49 PDT 2009</td>\n",
       "      <td>NO_QUERY</td>\n",
       "      <td>scotthamilton</td>\n",
       "      <td>is upset that he can't update his Facebook by ...</td>\n",
       "    </tr>\n",
       "    <tr>\n",
       "      <th>1</th>\n",
       "      <td>0</td>\n",
       "      <td>1467810917</td>\n",
       "      <td>Mon Apr 06 22:19:53 PDT 2009</td>\n",
       "      <td>NO_QUERY</td>\n",
       "      <td>mattycus</td>\n",
       "      <td>@Kenichan I dived many times for the ball. Man...</td>\n",
       "    </tr>\n",
       "    <tr>\n",
       "      <th>2</th>\n",
       "      <td>0</td>\n",
       "      <td>1467811184</td>\n",
       "      <td>Mon Apr 06 22:19:57 PDT 2009</td>\n",
       "      <td>NO_QUERY</td>\n",
       "      <td>ElleCTF</td>\n",
       "      <td>my whole body feels itchy and like its on fire</td>\n",
       "    </tr>\n",
       "    <tr>\n",
       "      <th>3</th>\n",
       "      <td>0</td>\n",
       "      <td>1467811193</td>\n",
       "      <td>Mon Apr 06 22:19:57 PDT 2009</td>\n",
       "      <td>NO_QUERY</td>\n",
       "      <td>Karoli</td>\n",
       "      <td>@nationwideclass no, it's not behaving at all....</td>\n",
       "    </tr>\n",
       "    <tr>\n",
       "      <th>4</th>\n",
       "      <td>0</td>\n",
       "      <td>1467811372</td>\n",
       "      <td>Mon Apr 06 22:20:00 PDT 2009</td>\n",
       "      <td>NO_QUERY</td>\n",
       "      <td>joy_wolf</td>\n",
       "      <td>@Kwesidei not the whole crew</td>\n",
       "    </tr>\n",
       "    <tr>\n",
       "      <th>5</th>\n",
       "      <td>0</td>\n",
       "      <td>1467811592</td>\n",
       "      <td>Mon Apr 06 22:20:03 PDT 2009</td>\n",
       "      <td>NO_QUERY</td>\n",
       "      <td>mybirch</td>\n",
       "      <td>Need a hug</td>\n",
       "    </tr>\n",
       "    <tr>\n",
       "      <th>6</th>\n",
       "      <td>0</td>\n",
       "      <td>1467811594</td>\n",
       "      <td>Mon Apr 06 22:20:03 PDT 2009</td>\n",
       "      <td>NO_QUERY</td>\n",
       "      <td>coZZ</td>\n",
       "      <td>@LOLTrish hey  long time no see! Yes.. Rains a...</td>\n",
       "    </tr>\n",
       "    <tr>\n",
       "      <th>7</th>\n",
       "      <td>0</td>\n",
       "      <td>1467812579</td>\n",
       "      <td>Mon Apr 06 22:20:17 PDT 2009</td>\n",
       "      <td>NO_QUERY</td>\n",
       "      <td>pardonlauren</td>\n",
       "      <td>I just re-pierced my ears</td>\n",
       "    </tr>\n",
       "    <tr>\n",
       "      <th>8</th>\n",
       "      <td>0</td>\n",
       "      <td>1467812723</td>\n",
       "      <td>Mon Apr 06 22:20:19 PDT 2009</td>\n",
       "      <td>NO_QUERY</td>\n",
       "      <td>TLeC</td>\n",
       "      <td>@caregiving I couldn't bear to watch it.  And ...</td>\n",
       "    </tr>\n",
       "    <tr>\n",
       "      <th>9</th>\n",
       "      <td>0</td>\n",
       "      <td>1467812771</td>\n",
       "      <td>Mon Apr 06 22:20:19 PDT 2009</td>\n",
       "      <td>NO_QUERY</td>\n",
       "      <td>robrobbierobert</td>\n",
       "      <td>@octolinz16 It it counts, idk why I did either...</td>\n",
       "    </tr>\n",
       "    <tr>\n",
       "      <th>10</th>\n",
       "      <td>0</td>\n",
       "      <td>1467812784</td>\n",
       "      <td>Mon Apr 06 22:20:20 PDT 2009</td>\n",
       "      <td>NO_QUERY</td>\n",
       "      <td>bayofwolves</td>\n",
       "      <td>@smarrison i would've been the first, but i di...</td>\n",
       "    </tr>\n",
       "    <tr>\n",
       "      <th>11</th>\n",
       "      <td>0</td>\n",
       "      <td>1467812799</td>\n",
       "      <td>Mon Apr 06 22:20:20 PDT 2009</td>\n",
       "      <td>NO_QUERY</td>\n",
       "      <td>HairByJess</td>\n",
       "      <td>@iamjazzyfizzle I wish I got to watch it with ...</td>\n",
       "    </tr>\n",
       "    <tr>\n",
       "      <th>12</th>\n",
       "      <td>0</td>\n",
       "      <td>1467812964</td>\n",
       "      <td>Mon Apr 06 22:20:22 PDT 2009</td>\n",
       "      <td>NO_QUERY</td>\n",
       "      <td>lovesongwriter</td>\n",
       "      <td>Hollis' death scene will hurt me severely to w...</td>\n",
       "    </tr>\n",
       "    <tr>\n",
       "      <th>13</th>\n",
       "      <td>0</td>\n",
       "      <td>1467813137</td>\n",
       "      <td>Mon Apr 06 22:20:25 PDT 2009</td>\n",
       "      <td>NO_QUERY</td>\n",
       "      <td>armotley</td>\n",
       "      <td>about to file taxes</td>\n",
       "    </tr>\n",
       "    <tr>\n",
       "      <th>14</th>\n",
       "      <td>0</td>\n",
       "      <td>1467813579</td>\n",
       "      <td>Mon Apr 06 22:20:31 PDT 2009</td>\n",
       "      <td>NO_QUERY</td>\n",
       "      <td>starkissed</td>\n",
       "      <td>@LettyA ahh ive always wanted to see rent  lov...</td>\n",
       "    </tr>\n",
       "    <tr>\n",
       "      <th>15</th>\n",
       "      <td>0</td>\n",
       "      <td>1467813782</td>\n",
       "      <td>Mon Apr 06 22:20:34 PDT 2009</td>\n",
       "      <td>NO_QUERY</td>\n",
       "      <td>gi_gi_bee</td>\n",
       "      <td>@FakerPattyPattz Oh dear. Were you drinking ou...</td>\n",
       "    </tr>\n",
       "    <tr>\n",
       "      <th>16</th>\n",
       "      <td>0</td>\n",
       "      <td>1467813985</td>\n",
       "      <td>Mon Apr 06 22:20:37 PDT 2009</td>\n",
       "      <td>NO_QUERY</td>\n",
       "      <td>quanvu</td>\n",
       "      <td>@alydesigns i was out most of the day so didn'...</td>\n",
       "    </tr>\n",
       "    <tr>\n",
       "      <th>17</th>\n",
       "      <td>0</td>\n",
       "      <td>1467813992</td>\n",
       "      <td>Mon Apr 06 22:20:38 PDT 2009</td>\n",
       "      <td>NO_QUERY</td>\n",
       "      <td>swinspeedx</td>\n",
       "      <td>one of my friend called me, and asked to meet ...</td>\n",
       "    </tr>\n",
       "    <tr>\n",
       "      <th>18</th>\n",
       "      <td>0</td>\n",
       "      <td>1467814119</td>\n",
       "      <td>Mon Apr 06 22:20:40 PDT 2009</td>\n",
       "      <td>NO_QUERY</td>\n",
       "      <td>cooliodoc</td>\n",
       "      <td>@angry_barista I baked you a cake but I ated it</td>\n",
       "    </tr>\n",
       "    <tr>\n",
       "      <th>19</th>\n",
       "      <td>0</td>\n",
       "      <td>1467814180</td>\n",
       "      <td>Mon Apr 06 22:20:40 PDT 2009</td>\n",
       "      <td>NO_QUERY</td>\n",
       "      <td>viJILLante</td>\n",
       "      <td>this week is not going as i had hoped</td>\n",
       "    </tr>\n",
       "    <tr>\n",
       "      <th>20</th>\n",
       "      <td>0</td>\n",
       "      <td>1467814192</td>\n",
       "      <td>Mon Apr 06 22:20:41 PDT 2009</td>\n",
       "      <td>NO_QUERY</td>\n",
       "      <td>Ljelli3166</td>\n",
       "      <td>blagh class at 8 tomorrow</td>\n",
       "    </tr>\n",
       "    <tr>\n",
       "      <th>21</th>\n",
       "      <td>0</td>\n",
       "      <td>1467814438</td>\n",
       "      <td>Mon Apr 06 22:20:44 PDT 2009</td>\n",
       "      <td>NO_QUERY</td>\n",
       "      <td>ChicagoCubbie</td>\n",
       "      <td>I hate when I have to call and wake people up</td>\n",
       "    </tr>\n",
       "    <tr>\n",
       "      <th>22</th>\n",
       "      <td>0</td>\n",
       "      <td>1467814783</td>\n",
       "      <td>Mon Apr 06 22:20:50 PDT 2009</td>\n",
       "      <td>NO_QUERY</td>\n",
       "      <td>KatieAngell</td>\n",
       "      <td>Just going to cry myself to sleep after watchi...</td>\n",
       "    </tr>\n",
       "    <tr>\n",
       "      <th>23</th>\n",
       "      <td>0</td>\n",
       "      <td>1467814883</td>\n",
       "      <td>Mon Apr 06 22:20:52 PDT 2009</td>\n",
       "      <td>NO_QUERY</td>\n",
       "      <td>gagoo</td>\n",
       "      <td>im sad now  Miss.Lilly</td>\n",
       "    </tr>\n",
       "    <tr>\n",
       "      <th>24</th>\n",
       "      <td>0</td>\n",
       "      <td>1467815199</td>\n",
       "      <td>Mon Apr 06 22:20:56 PDT 2009</td>\n",
       "      <td>NO_QUERY</td>\n",
       "      <td>abel209</td>\n",
       "      <td>ooooh.... LOL  that leslie.... and ok I won't ...</td>\n",
       "    </tr>\n",
       "  </tbody>\n",
       "</table>\n",
       "</div>"
      ],
      "text/plain": [
       "    polarity of tweet   id of the tweet             date of the tweet  \\\n",
       "0                    0       1467810672  Mon Apr 06 22:19:49 PDT 2009   \n",
       "1                    0       1467810917  Mon Apr 06 22:19:53 PDT 2009   \n",
       "2                    0       1467811184  Mon Apr 06 22:19:57 PDT 2009   \n",
       "3                    0       1467811193  Mon Apr 06 22:19:57 PDT 2009   \n",
       "4                    0       1467811372  Mon Apr 06 22:20:00 PDT 2009   \n",
       "5                    0       1467811592  Mon Apr 06 22:20:03 PDT 2009   \n",
       "6                    0       1467811594  Mon Apr 06 22:20:03 PDT 2009   \n",
       "7                    0       1467812579  Mon Apr 06 22:20:17 PDT 2009   \n",
       "8                    0       1467812723  Mon Apr 06 22:20:19 PDT 2009   \n",
       "9                    0       1467812771  Mon Apr 06 22:20:19 PDT 2009   \n",
       "10                   0       1467812784  Mon Apr 06 22:20:20 PDT 2009   \n",
       "11                   0       1467812799  Mon Apr 06 22:20:20 PDT 2009   \n",
       "12                   0       1467812964  Mon Apr 06 22:20:22 PDT 2009   \n",
       "13                   0       1467813137  Mon Apr 06 22:20:25 PDT 2009   \n",
       "14                   0       1467813579  Mon Apr 06 22:20:31 PDT 2009   \n",
       "15                   0       1467813782  Mon Apr 06 22:20:34 PDT 2009   \n",
       "16                   0       1467813985  Mon Apr 06 22:20:37 PDT 2009   \n",
       "17                   0       1467813992  Mon Apr 06 22:20:38 PDT 2009   \n",
       "18                   0       1467814119  Mon Apr 06 22:20:40 PDT 2009   \n",
       "19                   0       1467814180  Mon Apr 06 22:20:40 PDT 2009   \n",
       "20                   0       1467814192  Mon Apr 06 22:20:41 PDT 2009   \n",
       "21                   0       1467814438  Mon Apr 06 22:20:44 PDT 2009   \n",
       "22                   0       1467814783  Mon Apr 06 22:20:50 PDT 2009   \n",
       "23                   0       1467814883  Mon Apr 06 22:20:52 PDT 2009   \n",
       "24                   0       1467815199  Mon Apr 06 22:20:56 PDT 2009   \n",
       "\n",
       "       query             user  \\\n",
       "0   NO_QUERY    scotthamilton   \n",
       "1   NO_QUERY         mattycus   \n",
       "2   NO_QUERY          ElleCTF   \n",
       "3   NO_QUERY           Karoli   \n",
       "4   NO_QUERY         joy_wolf   \n",
       "5   NO_QUERY          mybirch   \n",
       "6   NO_QUERY             coZZ   \n",
       "7   NO_QUERY     pardonlauren   \n",
       "8   NO_QUERY             TLeC   \n",
       "9   NO_QUERY  robrobbierobert   \n",
       "10  NO_QUERY      bayofwolves   \n",
       "11  NO_QUERY       HairByJess   \n",
       "12  NO_QUERY   lovesongwriter   \n",
       "13  NO_QUERY         armotley   \n",
       "14  NO_QUERY       starkissed   \n",
       "15  NO_QUERY        gi_gi_bee   \n",
       "16  NO_QUERY           quanvu   \n",
       "17  NO_QUERY       swinspeedx   \n",
       "18  NO_QUERY        cooliodoc   \n",
       "19  NO_QUERY       viJILLante   \n",
       "20  NO_QUERY       Ljelli3166   \n",
       "21  NO_QUERY    ChicagoCubbie   \n",
       "22  NO_QUERY      KatieAngell   \n",
       "23  NO_QUERY            gagoo   \n",
       "24  NO_QUERY          abel209   \n",
       "\n",
       "                                   text of the tweet   \n",
       "0   is upset that he can't update his Facebook by ...  \n",
       "1   @Kenichan I dived many times for the ball. Man...  \n",
       "2     my whole body feels itchy and like its on fire   \n",
       "3   @nationwideclass no, it's not behaving at all....  \n",
       "4                       @Kwesidei not the whole crew   \n",
       "5                                         Need a hug   \n",
       "6   @LOLTrish hey  long time no see! Yes.. Rains a...  \n",
       "7                          I just re-pierced my ears   \n",
       "8   @caregiving I couldn't bear to watch it.  And ...  \n",
       "9   @octolinz16 It it counts, idk why I did either...  \n",
       "10  @smarrison i would've been the first, but i di...  \n",
       "11  @iamjazzyfizzle I wish I got to watch it with ...  \n",
       "12  Hollis' death scene will hurt me severely to w...  \n",
       "13                               about to file taxes   \n",
       "14  @LettyA ahh ive always wanted to see rent  lov...  \n",
       "15  @FakerPattyPattz Oh dear. Were you drinking ou...  \n",
       "16  @alydesigns i was out most of the day so didn'...  \n",
       "17  one of my friend called me, and asked to meet ...  \n",
       "18   @angry_barista I baked you a cake but I ated it   \n",
       "19             this week is not going as i had hoped   \n",
       "20                         blagh class at 8 tomorrow   \n",
       "21     I hate when I have to call and wake people up   \n",
       "22  Just going to cry myself to sleep after watchi...  \n",
       "23                             im sad now  Miss.Lilly  \n",
       "24  ooooh.... LOL  that leslie.... and ok I won't ...  "
      ]
     },
     "execution_count": 4,
     "metadata": {},
     "output_type": "execute_result"
    }
   ],
   "source": [
    "data.head(25)"
   ]
  },
  {
   "cell_type": "code",
   "execution_count": 5,
   "id": "7598b766",
   "metadata": {},
   "outputs": [
    {
     "data": {
      "text/plain": [
       "(1048572, 6)"
      ]
     },
     "execution_count": 5,
     "metadata": {},
     "output_type": "execute_result"
    }
   ],
   "source": [
    "data.shape"
   ]
  },
  {
   "cell_type": "code",
   "execution_count": 6,
   "id": "de2034ca",
   "metadata": {},
   "outputs": [
    {
     "name": "stdout",
     "output_type": "stream",
     "text": [
      "<class 'pandas.core.frame.DataFrame'>\n",
      "RangeIndex: 1048572 entries, 0 to 1048571\n",
      "Data columns (total 6 columns):\n",
      " #   Column              Non-Null Count    Dtype \n",
      "---  ------              --------------    ----- \n",
      " 0   polarity of tweet   1048572 non-null  int64 \n",
      " 1   id of the tweet     1048572 non-null  int64 \n",
      " 2   date of the tweet   1048572 non-null  object\n",
      " 3   query               1048572 non-null  object\n",
      " 4   user                1048572 non-null  object\n",
      " 5   text of the tweet   1048572 non-null  object\n",
      "dtypes: int64(2), object(4)\n",
      "memory usage: 48.0+ MB\n"
     ]
    }
   ],
   "source": [
    "data.info()"
   ]
  },
  {
   "cell_type": "code",
   "execution_count": 7,
   "id": "3d6be5e3",
   "metadata": {},
   "outputs": [
    {
     "data": {
      "text/plain": [
       "polarity of tweet     0\n",
       "id of the tweet       0\n",
       "date of the tweet     0\n",
       "query                 0\n",
       "user                  0\n",
       "text of the tweet     0\n",
       "dtype: int64"
      ]
     },
     "execution_count": 7,
     "metadata": {},
     "output_type": "execute_result"
    }
   ],
   "source": [
    "# counting the number of missing values in the dataset\n",
    "data.isnull().sum()"
   ]
  },
  {
   "cell_type": "code",
   "execution_count": 8,
   "id": "1fd68be6",
   "metadata": {},
   "outputs": [
    {
     "data": {
      "text/plain": [
       "Index(['polarity of tweet ', 'id of the tweet', 'date of the tweet', 'query',\n",
       "       'user', 'text of the tweet '],\n",
       "      dtype='object')"
      ]
     },
     "execution_count": 8,
     "metadata": {},
     "output_type": "execute_result"
    }
   ],
   "source": [
    "data.columns"
   ]
  },
  {
   "cell_type": "code",
   "execution_count": 9,
   "id": "2f6f5dc5",
   "metadata": {},
   "outputs": [],
   "source": [
    "#Sometimes column names can contain unexpected leading or trailing spaces. Try using the strip() method on all column names to remove any extra spaces:\n",
    "data.columns = data.columns.str.strip()"
   ]
  },
  {
   "cell_type": "code",
   "execution_count": 10,
   "id": "9895d8b5",
   "metadata": {},
   "outputs": [
    {
     "data": {
      "text/plain": [
       "polarity of tweet\n",
       "0    0.762939\n",
       "4    0.237061\n",
       "Name: proportion, dtype: float64"
      ]
     },
     "execution_count": 10,
     "metadata": {},
     "output_type": "execute_result"
    }
   ],
   "source": [
    "data['polarity of tweet'].value_counts(normalize=True)"
   ]
  },
  {
   "cell_type": "markdown",
   "id": "4f8a1d68",
   "metadata": {},
   "source": [
    "convert the target \"4\" to \"1\""
   ]
  },
  {
   "cell_type": "code",
   "execution_count": 11,
   "id": "35e10098",
   "metadata": {},
   "outputs": [],
   "source": [
    "data.replace({'polarity of tweet':{4:1}},inplace=True)"
   ]
  },
  {
   "cell_type": "code",
   "execution_count": 12,
   "id": "2b6c918e",
   "metadata": {},
   "outputs": [
    {
     "data": {
      "text/plain": [
       "polarity of tweet\n",
       "0    799996\n",
       "1    248576\n",
       "Name: count, dtype: int64"
      ]
     },
     "execution_count": 12,
     "metadata": {},
     "output_type": "execute_result"
    }
   ],
   "source": [
    "data['polarity of tweet'].value_counts()"
   ]
  },
  {
   "cell_type": "markdown",
   "id": "45f986d8",
   "metadata": {},
   "source": [
    "0 ---> Negative Tweet\n",
    "1 ---> Positive Tweet"
   ]
  },
  {
   "cell_type": "code",
   "execution_count": 13,
   "id": "88c74d44",
   "metadata": {},
   "outputs": [],
   "source": [
    "import matplotlib.pyplot as plt\n",
    "import seaborn as sns"
   ]
  },
  {
   "cell_type": "code",
   "execution_count": 14,
   "id": "01f6095d",
   "metadata": {},
   "outputs": [
    {
     "data": {
      "text/plain": [
       "<Axes: xlabel='polarity of tweet'>"
      ]
     },
     "execution_count": 14,
     "metadata": {},
     "output_type": "execute_result"
    },
    {
     "data": {
      "image/png": "[encoded data removed]",
      "text/plain": [
       "<Figure size 640x480 with 1 Axes>"
      ]
     },
     "metadata": {},
     "output_type": "display_data"
    }
   ],
   "source": [
    "data['polarity of tweet'].value_counts().plot(kind='bar')"
   ]
  },
  {
   "cell_type": "code",
   "execution_count": 15,
   "id": "53254f78",
   "metadata": {
    "scrolled": true
   },
   "outputs": [
    {
     "data": {
      "text/plain": [
       "Text(0.5, 1.0, 'polarity distribution')"
      ]
     },
     "execution_count": 15,
     "metadata": {},
     "output_type": "execute_result"
    },
    {
     "data": {
      "image/png": "[encoded data removed]",
      "text/plain": [
       "<Figure size 1000x600 with 1 Axes>"
      ]
     },
     "metadata": {},
     "output_type": "display_data"
    }
   ],
   "source": [
    "plt.figure(figsize=(10,6))\n",
    "colors=['green','orange']\n",
    "data['polarity of tweet'].value_counts().plot(kind='pie',autopct='%.1f%%',shadow=True,colors=colors,startangle=45,explode=(0,0.1))\n",
    "plt.title('polarity distribution')"
   ]
  },
  {
   "cell_type": "markdown",
   "id": "3e343b59",
   "metadata": {},
   "source": [
    "# 2. DATA Cleaning Steps\n",
    "\n"
   ]
  },
  {
   "cell_type": "code",
   "execution_count": 16,
   "id": "d7bf21da",
   "metadata": {},
   "outputs": [
    {
     "data": {
      "text/plain": [
       "'@LettyA ahh ive always wanted to see rent  love the soundtrack!!'"
      ]
     },
     "execution_count": 16,
     "metadata": {},
     "output_type": "execute_result"
    }
   ],
   "source": [
    "# Removing the user mentions\n",
    "data['text of the tweet'][14]"
   ]
  },
  {
   "cell_type": "code",
   "execution_count": 17,
   "id": "1dddcbb7",
   "metadata": {
    "scrolled": false
   },
   "outputs": [
    {
     "data": {
      "text/plain": [
       "' ahh ive always wanted to see rent  love the soundtrack!!'"
      ]
     },
     "execution_count": 17,
     "metadata": {},
     "output_type": "execute_result"
    }
   ],
   "source": [
    "# We'll retain on the alphabets & digits\n",
    "re.sub(\"@[A-Za-z0-9]+\", \"\", data['text of the tweet'][14])"
   ]
  },
  {
   "cell_type": "code",
   "execution_count": 18,
   "id": "6e24353a",
   "metadata": {},
   "outputs": [
    {
     "name": "stdout",
     "output_type": "stream",
     "text": [
      "{'hadn', 'yourselves', 'very', 'her', 'where', 'so', 'didn', 'been', 'who', 'while', \"hasn't\", 'were', 'wasn', 'by', 'them', 'more', 'an', 'wouldn', 'and', 'should', 'd', 'too', 'but', 'why', 're', 'ourselves', 'being', 'at', 'does', 'you', 's', 'he', 'ours', 'further', 'for', 'out', 'between', 'when', 'once', \"haven't\", 'it', 'same', 'his', 'herself', 'ma', 'shouldn', 'now', 'no', 'my', \"isn't\", \"won't\", 'here', 'until', 'isn', \"mightn't\", 'themselves', 'am', 'has', 'of', \"doesn't\", \"shouldn't\", 'own', 'have', 'mightn', 'over', 'its', 'itself', \"hadn't\", 'during', 'don', 'll', \"that'll\", 'nor', \"don't\", 'on', 'with', 'to', 'your', 'up', 'from', 'only', \"wouldn't\", 'few', 'myself', 'himself', 'in', 'as', \"needn't\", 'or', 'theirs', 'our', 'how', 'we', 'shan', 'down', 'she', 'a', 'which', \"should've\", \"it's\", 'about', 'off', 'this', 'him', 'won', 'what', 'because', 'was', 'their', 'they', \"you've\", 'yours', 'whom', 'under', 'had', 'all', 'these', 'did', 'needn', 't', \"you'd\", \"weren't\", \"you'll\", 'before', 'me', \"didn't\", 'are', 'having', 'those', 'other', 'be', 'such', 'if', 'through', \"wasn't\", 'y', 've', 'against', 'after', 'again', \"you're\", 'not', 'yourself', 'just', 'o', 'most', 'mustn', 'doing', 'there', \"couldn't\", 'aren', \"mustn't\", \"shan't\", 'below', 'above', 'doesn', 'weren', 'hasn', 'is', 'hers', 'each', 'than', 'haven', \"she's\", 'then', 'some', 'that', 'ain', 'the', 'do', 'into', 'couldn', 'm', 'both', 'can', \"aren't\", 'i', 'will', 'any'}\n"
     ]
    }
   ],
   "source": [
    "nltk_stopwords = set(stopwords.words('english'))\n",
    "print(nltk_stopwords)"
   ]
  },
  {
   "cell_type": "code",
   "execution_count": 19,
   "id": "2de167a1",
   "metadata": {},
   "outputs": [
    {
     "data": {
      "text/plain": [
       "179"
      ]
     },
     "execution_count": 19,
     "metadata": {},
     "output_type": "execute_result"
    }
   ],
   "source": [
    "len(nltk_stopwords)"
   ]
  },
  {
   "cell_type": "code",
   "execution_count": 20,
   "id": "7810b915",
   "metadata": {},
   "outputs": [],
   "source": [
    "from sklearn.feature_extraction.text import ENGLISH_STOP_WORDS\n",
    "sklearn_stopwords = set(ENGLISH_STOP_WORDS)"
   ]
  },
  {
   "cell_type": "code",
   "execution_count": 21,
   "id": "8e070747",
   "metadata": {},
   "outputs": [
    {
     "data": {
      "text/plain": [
       "318"
      ]
     },
     "execution_count": 21,
     "metadata": {},
     "output_type": "execute_result"
    }
   ],
   "source": [
    "len(sklearn_stopwords)"
   ]
  },
  {
   "cell_type": "code",
   "execution_count": 22,
   "id": "d69a9863",
   "metadata": {
    "scrolled": true
   },
   "outputs": [
    {
     "name": "stdout",
     "output_type": "stream",
     "text": [
      "{'yourselves', 'very', 'her', 'where', 'so', 'been', 'who', 'while', 'were', 'by', 'them', 'more', 'an', 'and', 'should', 'too', 'but', 'why', 're', 'ourselves', 'being', 'at', 'you', 'he', 'ours', 'further', 'for', 'out', 'between', 'when', 'once', 'it', 'same', 'his', 'herself', 'now', 'no', 'my', 'here', 'until', 'themselves', 'am', 'has', 'of', 'own', 'have', 'over', 'its', 'itself', 'during', 'nor', 'on', 'with', 'to', 'your', 'up', 'from', 'only', 'few', 'myself', 'himself', 'in', 'as', 'or', 'our', 'how', 'we', 'down', 'she', 'a', 'which', 'about', 'off', 'this', 'him', 'what', 'because', 'was', 'their', 'they', 'whom', 'yours', 'under', 'had', 'all', 'these', 'before', 'me', 'are', 'those', 'other', 'be', 'such', 'if', 'through', 'against', 'after', 'again', 'not', 'yourself', 'most', 'there', 'below', 'above', 'is', 'hers', 'each', 'than', 'then', 'some', 'that', 'the', 'do', 'into', 'both', 'can', 'i', 'will', 'any'}\n"
     ]
    }
   ],
   "source": [
    "# Find the common stopwords from NLTK & sklearn\n",
    "print(nltk_stopwords.intersection(sklearn_stopwords))"
   ]
  },
  {
   "cell_type": "code",
   "execution_count": 23,
   "id": "a41416d3",
   "metadata": {},
   "outputs": [
    {
     "data": {
      "text/plain": [
       "119"
      ]
     },
     "execution_count": 23,
     "metadata": {},
     "output_type": "execute_result"
    }
   ],
   "source": [
    "len(nltk_stopwords.intersection(sklearn_stopwords))"
   ]
  },
  {
   "cell_type": "code",
   "execution_count": 24,
   "id": "9aebfe96",
   "metadata": {},
   "outputs": [],
   "source": [
    "# Combining the stopwords from sklearn & NLTK\n",
    "combined_stopwords = nltk_stopwords.union(sklearn_stopwords)"
   ]
  },
  {
   "cell_type": "code",
   "execution_count": 25,
   "id": "146a30f1",
   "metadata": {},
   "outputs": [
    {
     "data": {
      "text/plain": [
       "378"
      ]
     },
     "execution_count": 25,
     "metadata": {},
     "output_type": "execute_result"
    }
   ],
   "source": [
    "len(combined_stopwords)"
   ]
  },
  {
   "cell_type": "code",
   "execution_count": 26,
   "id": "a594ec44",
   "metadata": {},
   "outputs": [
    {
     "data": {
      "text/plain": [
       "'@LettyA ahh ive always wanted to see rent  love the soundtrack!!'"
      ]
     },
     "execution_count": 26,
     "metadata": {},
     "output_type": "execute_result"
    }
   ],
   "source": [
    "import contractions\n",
    "data['text of the tweet'][14]"
   ]
  },
  {
   "cell_type": "code",
   "execution_count": 27,
   "id": "8e02dc5f",
   "metadata": {},
   "outputs": [
    {
     "data": {
      "text/plain": [
       "'@LettyA ahh i have always wanted to see rent  love the soundtrack!!'"
      ]
     },
     "execution_count": 27,
     "metadata": {},
     "output_type": "execute_result"
    }
   ],
   "source": [
    "contractions.fix(data['text of the tweet'][14])"
   ]
  },
  {
   "cell_type": "code",
   "execution_count": 28,
   "id": "6a2ca86b",
   "metadata": {},
   "outputs": [],
   "source": [
    "# Text Normalization: Stemming or Lemmatization (prefer)\n",
    "from nltk.stem import WordNetLemmatizer\n",
    "lemmatizer = WordNetLemmatizer()"
   ]
  },
  {
   "cell_type": "code",
   "execution_count": 29,
   "id": "c4577966",
   "metadata": {},
   "outputs": [],
   "source": [
    "def tweet_cleaner_without_stopwords(text):\n",
    "    new_text = re.sub(r\"'s\\b\", \" is\", text)\n",
    "    new_text = re.sub(\"#\", \"\", new_text)\n",
    "    new_text = re.sub(\"@[A-Za-z0-9]+\", \"\", new_text)\n",
    "    new_text = re.sub(r\"http\\S+\", \"\", new_text)\n",
    "    new_text = contractions.fix(new_text)    \n",
    "    new_text = re.sub(r\"[^a-zA-Z]\", \" \", new_text)    \n",
    "    new_text = new_text.lower().strip()\n",
    "    \n",
    "    cleaned_text = ''\n",
    "    for token in new_text.split():\n",
    "        cleaned_text = cleaned_text + lemmatizer.lemmatize(token) + ' '\n",
    "    \n",
    "    return cleaned_text"
   ]
  },
  {
   "cell_type": "code",
   "execution_count": 30,
   "id": "5072d339",
   "metadata": {},
   "outputs": [],
   "source": [
    "cleaned_tweets = []  # list of cleaned tweets\n",
    "for twt in data['text of the tweet']:\n",
    "    cleaned_tweets.append(tweet_cleaner_without_stopwords(twt))"
   ]
  },
  {
   "cell_type": "code",
   "execution_count": 31,
   "id": "e41a25f9",
   "metadata": {
    "scrolled": false
   },
   "outputs": [
    {
     "data": {
      "text/plain": [
       "['is upset that he cannot update his facebook by texting it and might cry a a result school today also blah ',\n",
       " 'i dived many time for the ball managed to save the rest go out of bound ',\n",
       " 'my whole body feel itchy and like it on fire ',\n",
       " 'no it is not behaving at all i am mad why am i here because i cannot see you all over there ',\n",
       " 'not the whole crew ']"
      ]
     },
     "execution_count": 31,
     "metadata": {},
     "output_type": "execute_result"
    }
   ],
   "source": [
    "cleaned_tweets[:5]  "
   ]
  },
  {
   "cell_type": "code",
   "execution_count": 32,
   "id": "4f29e720",
   "metadata": {},
   "outputs": [
    {
     "data": {
      "text/html": [
       "<div>\n",
       "<style scoped>\n",
       "    .dataframe tbody tr th:only-of-type {\n",
       "        vertical-align: middle;\n",
       "    }\n",
       "\n",
       "    .dataframe tbody tr th {\n",
       "        vertical-align: top;\n",
       "    }\n",
       "\n",
       "    .dataframe thead th {\n",
       "        text-align: right;\n",
       "    }\n",
       "</style>\n",
       "<table border=\"1\" class=\"dataframe\">\n",
       "  <thead>\n",
       "    <tr style=\"text-align: right;\">\n",
       "      <th></th>\n",
       "      <th>polarity of tweet</th>\n",
       "      <th>id of the tweet</th>\n",
       "      <th>date of the tweet</th>\n",
       "      <th>query</th>\n",
       "      <th>user</th>\n",
       "      <th>text of the tweet</th>\n",
       "      <th>cleaned_tweets_w/o_SW</th>\n",
       "    </tr>\n",
       "  </thead>\n",
       "  <tbody>\n",
       "    <tr>\n",
       "      <th>0</th>\n",
       "      <td>0</td>\n",
       "      <td>1467810672</td>\n",
       "      <td>Mon Apr 06 22:19:49 PDT 2009</td>\n",
       "      <td>NO_QUERY</td>\n",
       "      <td>scotthamilton</td>\n",
       "      <td>is upset that he can't update his Facebook by ...</td>\n",
       "      <td>is upset that he cannot update his facebook by...</td>\n",
       "    </tr>\n",
       "    <tr>\n",
       "      <th>1</th>\n",
       "      <td>0</td>\n",
       "      <td>1467810917</td>\n",
       "      <td>Mon Apr 06 22:19:53 PDT 2009</td>\n",
       "      <td>NO_QUERY</td>\n",
       "      <td>mattycus</td>\n",
       "      <td>@Kenichan I dived many times for the ball. Man...</td>\n",
       "      <td>i dived many time for the ball managed to save...</td>\n",
       "    </tr>\n",
       "    <tr>\n",
       "      <th>2</th>\n",
       "      <td>0</td>\n",
       "      <td>1467811184</td>\n",
       "      <td>Mon Apr 06 22:19:57 PDT 2009</td>\n",
       "      <td>NO_QUERY</td>\n",
       "      <td>ElleCTF</td>\n",
       "      <td>my whole body feels itchy and like its on fire</td>\n",
       "      <td>my whole body feel itchy and like it on fire</td>\n",
       "    </tr>\n",
       "    <tr>\n",
       "      <th>3</th>\n",
       "      <td>0</td>\n",
       "      <td>1467811193</td>\n",
       "      <td>Mon Apr 06 22:19:57 PDT 2009</td>\n",
       "      <td>NO_QUERY</td>\n",
       "      <td>Karoli</td>\n",
       "      <td>@nationwideclass no, it's not behaving at all....</td>\n",
       "      <td>no it is not behaving at all i am mad why am i...</td>\n",
       "    </tr>\n",
       "    <tr>\n",
       "      <th>4</th>\n",
       "      <td>0</td>\n",
       "      <td>1467811372</td>\n",
       "      <td>Mon Apr 06 22:20:00 PDT 2009</td>\n",
       "      <td>NO_QUERY</td>\n",
       "      <td>joy_wolf</td>\n",
       "      <td>@Kwesidei not the whole crew</td>\n",
       "      <td>not the whole crew</td>\n",
       "    </tr>\n",
       "  </tbody>\n",
       "</table>\n",
       "</div>"
      ],
      "text/plain": [
       "   polarity of tweet  id of the tweet             date of the tweet     query  \\\n",
       "0                  0       1467810672  Mon Apr 06 22:19:49 PDT 2009  NO_QUERY   \n",
       "1                  0       1467810917  Mon Apr 06 22:19:53 PDT 2009  NO_QUERY   \n",
       "2                  0       1467811184  Mon Apr 06 22:19:57 PDT 2009  NO_QUERY   \n",
       "3                  0       1467811193  Mon Apr 06 22:19:57 PDT 2009  NO_QUERY   \n",
       "4                  0       1467811372  Mon Apr 06 22:20:00 PDT 2009  NO_QUERY   \n",
       "\n",
       "            user                                  text of the tweet  \\\n",
       "0  scotthamilton  is upset that he can't update his Facebook by ...   \n",
       "1       mattycus  @Kenichan I dived many times for the ball. Man...   \n",
       "2        ElleCTF    my whole body feels itchy and like its on fire    \n",
       "3         Karoli  @nationwideclass no, it's not behaving at all....   \n",
       "4       joy_wolf                      @Kwesidei not the whole crew    \n",
       "\n",
       "                               cleaned_tweets_w/o_SW  \n",
       "0  is upset that he cannot update his facebook by...  \n",
       "1  i dived many time for the ball managed to save...  \n",
       "2      my whole body feel itchy and like it on fire   \n",
       "3  no it is not behaving at all i am mad why am i...  \n",
       "4                                not the whole crew   "
      ]
     },
     "execution_count": 32,
     "metadata": {},
     "output_type": "execute_result"
    }
   ],
   "source": [
    "data['cleaned_tweets_w/o_SW'] = cleaned_tweets\n",
    "data.head()"
   ]
  },
  {
   "cell_type": "markdown",
   "id": "4c9bd684",
   "metadata": {},
   "source": [
    "# 3. Data Visualization"
   ]
  },
  {
   "cell_type": "code",
   "execution_count": 33,
   "id": "f7aeae8d",
   "metadata": {},
   "outputs": [
    {
     "name": "stdout",
     "output_type": "stream",
     "text": [
      "['is', 'upset', 'that', 'he', \"can't\", 'update', 'his', 'Facebook', 'by', 'texting', 'it...', 'and', 'might', 'cry', 'as', 'a', 'result', 'School', 'today', 'also.', 'Blah!', '@Kenichan', 'I', 'dived', 'many', 'times', 'for', 'the', 'ball.', 'Managed', 'to', 'save', '50%', 'The', 'rest', 'go', 'out', 'of', 'bounds', 'my', 'whole', 'body', 'feels', 'itchy', 'and', 'like', 'its', 'on', 'fire', '@nationwideclass']\n"
     ]
    },
    {
     "data": {
      "text/plain": [
       "945980"
      ]
     },
     "execution_count": 33,
     "metadata": {},
     "output_type": "execute_result"
    }
   ],
   "source": [
    "# Write a code to collect all the words from all the tweets into a single list\n",
    "all_words = []\n",
    "for t in data['text of the tweet']:\n",
    "    all_words.extend(t.split())\n",
    "\n",
    "print(all_words[:50])\n",
    "len(set(all_words)) # this is the number of unique words in the list"
   ]
  },
  {
   "cell_type": "code",
   "execution_count": 34,
   "id": "e4402ce0",
   "metadata": {},
   "outputs": [
    {
     "data": {
      "image/png": "[encoded data removed]",
      "text/plain": [
       "<Figure size 1200x500 with 1 Axes>"
      ]
     },
     "metadata": {},
     "output_type": "display_data"
    }
   ],
   "source": [
    "freq_dist = nltk.FreqDist(all_words)\n",
    "\n",
    "plt.figure(figsize=(12,5))\n",
    "plt.title('Top 25 most common words')\n",
    "plt.xticks(fontsize=15)\n",
    "\n",
    "freq_dist.plot(25, cumulative=False)\n",
    "\n",
    "plt.show()"
   ]
  },
  {
   "cell_type": "markdown",
   "id": "1e765350",
   "metadata": {},
   "source": [
    "# Plot for Cleaned Tweet"
   ]
  },
  {
   "cell_type": "code",
   "execution_count": 35,
   "id": "9907e572",
   "metadata": {},
   "outputs": [
    {
     "name": "stdout",
     "output_type": "stream",
     "text": [
      "['is', 'upset', 'that', 'he', 'cannot', 'update', 'his', 'facebook', 'by', 'texting', 'it', 'and', 'might', 'cry', 'a', 'a', 'result', 'school', 'today', 'also', 'blah', 'i', 'dived', 'many', 'time', 'for', 'the', 'ball', 'managed', 'to', 'save', 'the', 'rest', 'go', 'out', 'of', 'bound', 'my', 'whole', 'body', 'feel', 'itchy', 'and', 'like', 'it', 'on', 'fire', 'no', 'it', 'is']\n"
     ]
    }
   ],
   "source": [
    "# Write the code for plotting the cleaned tweets\n",
    "all_words = []\n",
    "for t in data['cleaned_tweets_w/o_SW']:\n",
    "    all_words.extend(t.split())\n",
    "\n",
    "print(all_words[:50])"
   ]
  },
  {
   "cell_type": "code",
   "execution_count": 36,
   "id": "ccf09608",
   "metadata": {},
   "outputs": [
    {
     "data": {
      "text/plain": [
       "194104"
      ]
     },
     "execution_count": 36,
     "metadata": {},
     "output_type": "execute_result"
    }
   ],
   "source": [
    "len(set(all_words)) # this is the number of unique words in the list"
   ]
  },
  {
   "cell_type": "code",
   "execution_count": 37,
   "id": "f2a95b4c",
   "metadata": {},
   "outputs": [
    {
     "data": {
      "image/png": "[encoded data removed]",
      "text/plain": [
       "<Figure size 1200x500 with 1 Axes>"
      ]
     },
     "metadata": {},
     "output_type": "display_data"
    }
   ],
   "source": [
    "# Frequency Distribution\n",
    "freq_dist = nltk.FreqDist(all_words)\n",
    "\n",
    "plt.figure(figsize=(12,5))\n",
    "plt.title('Top 25 most common words')\n",
    "plt.xticks(fontsize=15)\n",
    "\n",
    "freq_dist.plot(25, cumulative=False)\n",
    "\n",
    "plt.show()"
   ]
  },
  {
   "cell_type": "markdown",
   "id": "9f8e700e",
   "metadata": {},
   "source": [
    "# DV After applying Stop words"
   ]
  },
  {
   "cell_type": "code",
   "execution_count": 38,
   "id": "d4a1df9a",
   "metadata": {},
   "outputs": [
    {
     "data": {
      "text/plain": [
       "set"
      ]
     },
     "execution_count": 38,
     "metadata": {},
     "output_type": "execute_result"
    }
   ],
   "source": [
    "type(combined_stopwords)"
   ]
  },
  {
   "cell_type": "code",
   "execution_count": 39,
   "id": "0e0f7b00",
   "metadata": {},
   "outputs": [],
   "source": [
    "def tweet_cleaner_with_stopwords(text):\n",
    "    new_text = re.sub(r\"'s\\b\", \" is\", text)\n",
    "    new_text = re.sub(\"#\", \"\", new_text)\n",
    "    new_text = re.sub(\"@[A-Za-z0-9]+\", \"\", new_text)\n",
    "    new_text = re.sub(r\"http\\S+\", \"\", new_text)\n",
    "    new_text = contractions.fix(new_text)    \n",
    "    new_text = re.sub(r\"[^a-zA-Z]\", \" \", new_text)    \n",
    "    new_text = new_text.lower().strip()\n",
    "    \n",
    "    new_text = [token for token in new_text.split() if token not in combined_stopwords]\n",
    "    \n",
    "    new_text = [token for token in new_text if len(token)>2]\n",
    "    \n",
    "    cleaned_text = ''\n",
    "    for token in new_text:\n",
    "        cleaned_text = cleaned_text + lemmatizer.lemmatize(token) + ' '\n",
    "    \n",
    "    return cleaned_text"
   ]
  },
  {
   "cell_type": "code",
   "execution_count": 40,
   "id": "ce84ad5f",
   "metadata": {},
   "outputs": [
    {
     "name": "stdout",
     "output_type": "stream",
     "text": [
      "['upset update facebook texting result school today blah ', 'dived time ball managed save rest bound ', 'body feel itchy like ', 'behaving mad ', 'crew ', 'need hug ', 'hey long time yes rain bit bit lol fine thanks ', 'pierced ear ', 'bear watch thought loss embarrassing ', 'count know talk anymore ']\n"
     ]
    }
   ],
   "source": [
    "cleaned_tweets = list(data['text of the tweet'].apply(tweet_cleaner_with_stopwords))\n",
    "print(cleaned_tweets[:10])"
   ]
  },
  {
   "cell_type": "code",
   "execution_count": 41,
   "id": "69632a4b",
   "metadata": {},
   "outputs": [
    {
     "data": {
      "text/plain": [
       "Index(['polarity of tweet', 'id of the tweet', 'date of the tweet', 'query',\n",
       "       'user', 'text of the tweet', 'cleaned_tweets_w/o_SW'],\n",
       "      dtype='object')"
      ]
     },
     "execution_count": 41,
     "metadata": {},
     "output_type": "execute_result"
    }
   ],
   "source": [
    "data.columns"
   ]
  },
  {
   "cell_type": "code",
   "execution_count": 42,
   "id": "6ec52887",
   "metadata": {},
   "outputs": [
    {
     "data": {
      "text/html": [
       "<div>\n",
       "<style scoped>\n",
       "    .dataframe tbody tr th:only-of-type {\n",
       "        vertical-align: middle;\n",
       "    }\n",
       "\n",
       "    .dataframe tbody tr th {\n",
       "        vertical-align: top;\n",
       "    }\n",
       "\n",
       "    .dataframe thead th {\n",
       "        text-align: right;\n",
       "    }\n",
       "</style>\n",
       "<table border=\"1\" class=\"dataframe\">\n",
       "  <thead>\n",
       "    <tr style=\"text-align: right;\">\n",
       "      <th></th>\n",
       "      <th>polarity of tweet</th>\n",
       "      <th>id of the tweet</th>\n",
       "      <th>date of the tweet</th>\n",
       "      <th>query</th>\n",
       "      <th>user</th>\n",
       "      <th>text of the tweet</th>\n",
       "      <th>cleaned_tweets_w/o_SW</th>\n",
       "      <th>cleaned_tweets_with_SW</th>\n",
       "    </tr>\n",
       "  </thead>\n",
       "  <tbody>\n",
       "    <tr>\n",
       "      <th>0</th>\n",
       "      <td>0</td>\n",
       "      <td>1467810672</td>\n",
       "      <td>Mon Apr 06 22:19:49 PDT 2009</td>\n",
       "      <td>NO_QUERY</td>\n",
       "      <td>scotthamilton</td>\n",
       "      <td>is upset that he can't update his Facebook by ...</td>\n",
       "      <td>is upset that he cannot update his facebook by...</td>\n",
       "      <td>upset update facebook texting result school to...</td>\n",
       "    </tr>\n",
       "    <tr>\n",
       "      <th>1</th>\n",
       "      <td>0</td>\n",
       "      <td>1467810917</td>\n",
       "      <td>Mon Apr 06 22:19:53 PDT 2009</td>\n",
       "      <td>NO_QUERY</td>\n",
       "      <td>mattycus</td>\n",
       "      <td>@Kenichan I dived many times for the ball. Man...</td>\n",
       "      <td>i dived many time for the ball managed to save...</td>\n",
       "      <td>dived time ball managed save rest bound</td>\n",
       "    </tr>\n",
       "    <tr>\n",
       "      <th>2</th>\n",
       "      <td>0</td>\n",
       "      <td>1467811184</td>\n",
       "      <td>Mon Apr 06 22:19:57 PDT 2009</td>\n",
       "      <td>NO_QUERY</td>\n",
       "      <td>ElleCTF</td>\n",
       "      <td>my whole body feels itchy and like its on fire</td>\n",
       "      <td>my whole body feel itchy and like it on fire</td>\n",
       "      <td>body feel itchy like</td>\n",
       "    </tr>\n",
       "    <tr>\n",
       "      <th>3</th>\n",
       "      <td>0</td>\n",
       "      <td>1467811193</td>\n",
       "      <td>Mon Apr 06 22:19:57 PDT 2009</td>\n",
       "      <td>NO_QUERY</td>\n",
       "      <td>Karoli</td>\n",
       "      <td>@nationwideclass no, it's not behaving at all....</td>\n",
       "      <td>no it is not behaving at all i am mad why am i...</td>\n",
       "      <td>behaving mad</td>\n",
       "    </tr>\n",
       "    <tr>\n",
       "      <th>4</th>\n",
       "      <td>0</td>\n",
       "      <td>1467811372</td>\n",
       "      <td>Mon Apr 06 22:20:00 PDT 2009</td>\n",
       "      <td>NO_QUERY</td>\n",
       "      <td>joy_wolf</td>\n",
       "      <td>@Kwesidei not the whole crew</td>\n",
       "      <td>not the whole crew</td>\n",
       "      <td>crew</td>\n",
       "    </tr>\n",
       "  </tbody>\n",
       "</table>\n",
       "</div>"
      ],
      "text/plain": [
       "   polarity of tweet  id of the tweet             date of the tweet     query  \\\n",
       "0                  0       1467810672  Mon Apr 06 22:19:49 PDT 2009  NO_QUERY   \n",
       "1                  0       1467810917  Mon Apr 06 22:19:53 PDT 2009  NO_QUERY   \n",
       "2                  0       1467811184  Mon Apr 06 22:19:57 PDT 2009  NO_QUERY   \n",
       "3                  0       1467811193  Mon Apr 06 22:19:57 PDT 2009  NO_QUERY   \n",
       "4                  0       1467811372  Mon Apr 06 22:20:00 PDT 2009  NO_QUERY   \n",
       "\n",
       "            user                                  text of the tweet  \\\n",
       "0  scotthamilton  is upset that he can't update his Facebook by ...   \n",
       "1       mattycus  @Kenichan I dived many times for the ball. Man...   \n",
       "2        ElleCTF    my whole body feels itchy and like its on fire    \n",
       "3         Karoli  @nationwideclass no, it's not behaving at all....   \n",
       "4       joy_wolf                      @Kwesidei not the whole crew    \n",
       "\n",
       "                               cleaned_tweets_w/o_SW  \\\n",
       "0  is upset that he cannot update his facebook by...   \n",
       "1  i dived many time for the ball managed to save...   \n",
       "2      my whole body feel itchy and like it on fire    \n",
       "3  no it is not behaving at all i am mad why am i...   \n",
       "4                                not the whole crew    \n",
       "\n",
       "                              cleaned_tweets_with_SW  \n",
       "0  upset update facebook texting result school to...  \n",
       "1           dived time ball managed save rest bound   \n",
       "2                              body feel itchy like   \n",
       "3                                      behaving mad   \n",
       "4                                              crew   "
      ]
     },
     "execution_count": 42,
     "metadata": {},
     "output_type": "execute_result"
    }
   ],
   "source": [
    "data['cleaned_tweets_with_SW'] = cleaned_tweets\n",
    "data.head()"
   ]
  },
  {
   "cell_type": "code",
   "execution_count": 43,
   "id": "0bbddda5",
   "metadata": {},
   "outputs": [
    {
     "name": "stdout",
     "output_type": "stream",
     "text": [
      "['upset', 'update', 'facebook', 'texting', 'result', 'school', 'today', 'blah', 'dived', 'time', 'ball', 'managed', 'save', 'rest', 'bound', 'body', 'feel', 'itchy', 'like', 'behaving', 'mad', 'crew', 'need', 'hug', 'hey', 'long', 'time', 'yes', 'rain', 'bit', 'bit', 'lol', 'fine', 'thanks', 'pierced', 'ear', 'bear', 'watch', 'thought', 'loss', 'embarrassing', 'count', 'know', 'talk', 'anymore', 'gun', 'really', 'zac', 'snyder', 'doucheclown']\n"
     ]
    },
    {
     "data": {
      "image/png": "[encoded data removed]",
      "text/plain": [
       "<Figure size 1200x500 with 1 Axes>"
      ]
     },
     "metadata": {},
     "output_type": "display_data"
    }
   ],
   "source": [
    "all_words = []\n",
    "for t in data['cleaned_tweets_with_SW']:\n",
    "    all_words.extend(t.split())\n",
    "\n",
    "print(all_words[:50])\n",
    "\n",
    "# Frequency Distribution\n",
    "freq_dist = nltk.FreqDist(all_words)\n",
    "\n",
    "plt.figure(figsize=(12,5))\n",
    "plt.title('Top 25 most common words')\n",
    "plt.xticks(fontsize=15)\n",
    "\n",
    "freq_dist.plot(25, cumulative=False)\n",
    "\n",
    "plt.show()"
   ]
  },
  {
   "cell_type": "code",
   "execution_count": 44,
   "id": "5af6188d",
   "metadata": {},
   "outputs": [],
   "source": [
    "domain_stopwords = ['want', 'got', 'quot', 'lol', 'amp', 'follow']\n",
    "final_stopwords = domain_stopwords + list(combined_stopwords)"
   ]
  },
  {
   "cell_type": "code",
   "execution_count": 45,
   "id": "a8f2018e",
   "metadata": {},
   "outputs": [
    {
     "data": {
      "text/plain": [
       "(1048572, 8)"
      ]
     },
     "execution_count": 45,
     "metadata": {},
     "output_type": "execute_result"
    }
   ],
   "source": [
    "data.shape"
   ]
  },
  {
   "cell_type": "markdown",
   "id": "6de5e0fa",
   "metadata": {},
   "source": [
    "# 4. TF-IDF vectorization\n",
    " (Feature Extraction)"
   ]
  },
  {
   "cell_type": "code",
   "execution_count": 46,
   "id": "9e9a6c51",
   "metadata": {
    "scrolled": true
   },
   "outputs": [],
   "source": [
    "data.shape\n",
    "from sklearn.preprocessing import LabelEncoder\n",
    "from sklearn.naive_bayes import MultinomialNB\n",
    "from sklearn.metrics import accuracy_score, classification_report, precision_recall_fscore_support"
   ]
  },
  {
   "cell_type": "code",
   "execution_count": 47,
   "id": "a3a48041",
   "metadata": {},
   "outputs": [],
   "source": [
    "# Extract the text column (replace 'text_column' with the actual column name)\n",
    "texts = data['cleaned_tweets_with_SW'].astype(str)\n",
    "labels = data['polarity of tweet']\n",
    "\n",
    "label_encoder = LabelEncoder()\n",
    "labels = label_encoder.fit_transform(labels)"
   ]
  },
  {
   "cell_type": "code",
   "execution_count": 48,
   "id": "ff14ef32",
   "metadata": {},
   "outputs": [
    {
     "name": "stdout",
     "output_type": "stream",
     "text": [
      "Accuracy: 0.816541496793267\n",
      "              precision    recall  f1-score   support\n",
      "\n",
      "           0       0.82      0.97      0.89    160130\n",
      "           1       0.76      0.32      0.46     49585\n",
      "\n",
      "    accuracy                           0.82    209715\n",
      "   macro avg       0.79      0.65      0.67    209715\n",
      "weighted avg       0.81      0.82      0.79    209715\n",
      "\n",
      "Precision: 0.81\n",
      "Recall: 0.82\n",
      "F1-score: 0.79\n"
     ]
    }
   ],
   "source": [
    "vectorizer = TfidfVectorizer(max_features=80000,  # Adjust max_features as needed\n",
    "                             stop_words='english',  # Optionally remove stopwords\n",
    "                             ngram_range=(1, 2))    # Optionally use bigrams along with unigrams\n",
    "\n",
    "# Fit and transform the texts\n",
    "tfidf_matrix = vectorizer.fit_transform(texts)\n",
    "\n",
    "# Split the data into training and testing sets\n",
    "X_train, X_test, y_train, y_test = train_test_split(tfidf_matrix, labels, test_size=0.2, random_state=42)\n",
    "\n",
    "# Initialize the Multinomial Naive Bayes classifier\n",
    "clf = MultinomialNB()\n",
    "\n",
    "# Train the classifier\n",
    "clf.fit(X_train, y_train)\n",
    "\n",
    "# Predict on the test set\n",
    "y_pred = clf.predict(X_test)\n",
    "\n",
    "# Evaluate the model\n",
    "accuracy = accuracy_score(y_test, y_pred)\n",
    "print(f\"Accuracy: {accuracy}\")\n",
    "\n",
    "# Print classification report for more detailed evaluation\n",
    "label_names = label_encoder.classes_.astype(str)  # Ensure label_names are strings\n",
    "print(classification_report(y_test, y_pred, target_names=label_names))\n",
    "\n",
    "# Calculate precision, recall, and F1-score\n",
    "precision, recall, fscore, support = precision_recall_fscore_support(y_test, y_pred, average='weighted')\n",
    "print(f\"Precision: {precision:.2f}\")\n",
    "print(f\"Recall: {recall:.2f}\")\n",
    "print(f\"F1-score: {fscore:.2f}\")"
   ]
  },
  {
   "cell_type": "code",
   "execution_count": 49,
   "id": "930ef7d5",
   "metadata": {
    "scrolled": true
   },
   "outputs": [
    {
     "name": "stdout",
     "output_type": "stream",
     "text": [
      "TF-IDF Matrix Shape: (1048572, 80000)\n"
     ]
    }
   ],
   "source": [
    "import pandas as pd\n",
    "from sklearn.feature_extraction.text import TfidfVectorizer\n",
    "\n",
    "# Assuming 'df' is your DataFrame with 'text' as the text data and 'label' as the sentiment label\n",
    "corpus = data['cleaned_tweets_with_SW'].values.astype('U')  # Convert text column to Unicode\n",
    "labels = data['polarity of tweet'].values\n",
    "\n",
    "# Initialize TF-IDF Vectorizer\n",
    "vectorizer = TfidfVectorizer(max_features=80000)  # Adjust max_features as needed\n",
    "\n",
    "# Fit and transform the vectorizer on the corpus\n",
    "X = vectorizer.fit_transform(corpus)\n",
    "\n",
    "# Check the shape of the TF-IDF matrix\n",
    "print(\"TF-IDF Matrix Shape:\", X.shape)\n"
   ]
  },
  {
   "cell_type": "markdown",
   "id": "d1afbe05",
   "metadata": {},
   "source": [
    "# Model Selection and Training"
   ]
  },
  {
   "cell_type": "code",
   "execution_count": 52,
   "id": "835984fa",
   "metadata": {},
   "outputs": [
    {
     "name": "stdout",
     "output_type": "stream",
     "text": [
      "Accuracy: 0.7986, Precision: 0.7993, Recall: 0.7986, F1-score: 0.7482\n"
     ]
    }
   ],
   "source": [
    "from sklearn.model_selection import train_test_split\n",
    "from sklearn.naive_bayes import MultinomialNB\n",
    "from sklearn.metrics import accuracy_score, precision_score, recall_score, f1_score\n",
    "\n",
    "# Split data into train and test sets\n",
    "X_train, X_test, y_train, y_test = train_test_split(X, labels, test_size=0.2, random_state=42)\n",
    "\n",
    "# Initialize Naive Bayes classifier\n",
    "nb_classifier = MultinomialNB()\n",
    "\n",
    "# Train the classifier\n",
    "nb_classifier.fit(X_train, y_train)\n",
    "\n",
    "# Predictions\n",
    "y_pred = nb_classifier.predict(X_test)\n",
    "\n",
    "# Evaluation metrics\n",
    "accuracy = accuracy_score(y_test, y_pred)\n",
    "precision = precision_score(y_test, y_pred, average='weighted')\n",
    "recall = recall_score(y_test, y_pred, average='weighted')\n",
    "f1 = f1_score(y_test, y_pred, average='weighted')\n",
    "\n",
    "print(f\"Accuracy: {accuracy:.4f}, Precision: {precision:.4f}, Recall: {recall:.4f}, F1-score: {f1:.4f}\")\n"
   ]
  },
  {
   "cell_type": "code",
   "execution_count": null,
   "id": "a4b0995b",
   "metadata": {},
   "outputs": [],
   "source": []
  },
  {
   "cell_type": "code",
   "execution_count": null,
   "id": "e39a8a4d",
   "metadata": {},
   "outputs": [],
   "source": []
  },
  {
   "cell_type": "markdown",
   "id": "c309765e",
   "metadata": {},
   "source": [
    "# Hyperparameter Tuning with Grid Search"
   ]
  },
  {
   "cell_type": "code",
   "execution_count": 53,
   "id": "f5b83ed0",
   "metadata": {},
   "outputs": [
    {
     "name": "stdout",
     "output_type": "stream",
     "text": [
      "Best Parameters: {'alpha': 0.1}\n",
      "Best Score: 0.7994485343347936\n",
      "Best Model Metrics:\n",
      "Accuracy: 0.8014, Precision: 0.7901, Recall: 0.8014, F1-score: 0.7620\n"
     ]
    }
   ],
   "source": [
    "from sklearn.model_selection import GridSearchCV\n",
    "\n",
    "# Define parameter grid for Naive Bayes\n",
    "param_grid = {\n",
    "    'alpha': [0.01, 0.1, 1.0, 10.0]\n",
    "}\n",
    "\n",
    "# Initialize GridSearchCV\n",
    "grid_search = GridSearchCV(estimator=MultinomialNB(), param_grid=param_grid, cv=5)\n",
    "grid_search.fit(X_train, y_train)\n",
    "\n",
    "# Best parameters and best score\n",
    "print(\"Best Parameters:\", grid_search.best_params_)\n",
    "print(\"Best Score:\", grid_search.best_score_)\n",
    "\n",
    "# Reinitialize the classifier with best parameters\n",
    "best_nb_classifier = grid_search.best_estimator_\n",
    "\n",
    "# Evaluate with best classifier\n",
    "y_pred_best = best_nb_classifier.predict(X_test)\n",
    "accuracy_best = accuracy_score(y_test, y_pred_best)\n",
    "precision_best = precision_score(y_test, y_pred_best, average='weighted')\n",
    "recall_best = recall_score(y_test, y_pred_best, average='weighted')\n",
    "f1_best = f1_score(y_test, y_pred_best, average='weighted')\n",
    "\n",
    "print(f\"Best Model Metrics:\")\n",
    "print(f\"Accuracy: {accuracy_best:.4f}, Precision: {precision_best:.4f}, Recall: {recall_best:.4f}, F1-score: {f1_best:.4f}\")\n"
   ]
  },
  {
   "cell_type": "markdown",
   "id": "1422a81d",
   "metadata": {},
   "source": [
    "# Cross-Validation"
   ]
  },
  {
   "cell_type": "code",
   "execution_count": 59,
   "id": "51831a3e",
   "metadata": {},
   "outputs": [
    {
     "name": "stdout",
     "output_type": "stream",
     "text": [
      "Cross-Validation Scores: [0.78510836 0.79233245 0.7938192  0.79649427 0.79787234]\n",
      "Mean CV Accuracy: 0.7931253254996686\n"
     ]
    }
   ],
   "source": [
    "from sklearn.model_selection import cross_val_score\n",
    "\n",
    "#Perform cross-validation with the best model\n",
    "cv_scores = cross_val_score(best_nb_classifier, X, labels, cv=5)\n",
    "print(\"Cross-Validation Scores:\", cv_scores)\n",
    "print(\"Mean CV Accuracy:\", cv_scores.mean())\n"
   ]
  },
  {
   "cell_type": "markdown",
   "id": "8fe8cae5",
   "metadata": {},
   "source": [
    "# Model Interpretability (Feature Importance)"
   ]
  },
  {
   "cell_type": "code",
   "execution_count": 55,
   "id": "195ddf53",
   "metadata": {
    "scrolled": false
   },
   "outputs": [
    {
     "name": "stdout",
     "output_type": "stream",
     "text": [
      "Top 10 features for class '0':\n",
      "['work' 'want' 'day' 'going' 'miss' 'today' 'like' 'got' 'know' 'sad']\n",
      "Top 10 features for class '1':\n",
      "['good' 'thanks' 'day' 'love' 'quot' 'going' 'lol' 'happy' 'like'\n",
      " 'morning']\n"
     ]
    }
   ],
   "source": [
    "# Assuming 'best_nb_classifier' is your trained MultinomialNB classifier\n",
    "\n",
    "# Get feature names from TF-IDF vectorizer\n",
    "feature_names = vectorizer.get_feature_names_out()\n",
    "\n",
    "# Get feature log probabilities (coef_) for MultinomialNB\n",
    "coef = best_nb_classifier.feature_log_prob_\n",
    "\n",
    "# Print top features per class (positive and negative)\n",
    "num_top_features = 10\n",
    "\n",
    "for i, label in enumerate(best_nb_classifier.classes_):\n",
    "    print(f\"Top {num_top_features} features for class '{label}':\")\n",
    "    top_positive_features = feature_names[coef[i].argsort()[-num_top_features:][::-1]]\n",
    "    print(top_positive_features)\n"
   ]
  },
  {
   "cell_type": "markdown",
   "id": "e029db0a",
   "metadata": {},
   "source": [
    "# Evaluation Metrics (Confusion Matrix, Precision-Recall Curve, ROC-AUC)"
   ]
  },
  {
   "cell_type": "code",
   "execution_count": 64,
   "id": "403bfed8",
   "metadata": {
    "scrolled": true
   },
   "outputs": [
    {
     "name": "stdout",
     "output_type": "stream",
     "text": [
      "ROC-AUC Score: 0.8229\n"
     ]
    },
    {
     "data": {
      "image/png": "[encoded data removed]",
      "text/plain": [
       "<Figure size 500x300 with 1 Axes>"
      ]
     },
     "metadata": {},
     "output_type": "display_data"
    }
   ],
   "source": [
    "from sklearn.metrics import roc_auc_score, roc_curve\n",
    "\n",
    "# Assuming 'best_nb_classifier' is your trained MultinomialNB classifier\n",
    "\n",
    "# Step 1: Predict probabilities for ROC-AUC calculation\n",
    "y_pred_prob = best_nb_classifier.predict_proba(X_test)\n",
    "\n",
    "# Step 2: Extract probabilities for the positive class (if binary classification)\n",
    "# For multiclass, you'll need to specify 'average' parameter in roc_auc_score\n",
    "\n",
    "# Assuming binary classification (positive class is 1)\n",
    "y_pred_prob_positive = y_pred_prob[:, 1]\n",
    "\n",
    "# Step 3: Compute ROC-AUC Score\n",
    "roc_auc = roc_auc_score(y_test, y_pred_prob_positive)\n",
    "\n",
    "print(f\"ROC-AUC Score: {roc_auc:.4f}\")\n",
    "\n",
    "# Step 4: Plot ROC Curve (optional but recommended)\n",
    "fpr, tpr, thresholds = roc_curve(y_test, y_pred_prob_positive)\n",
    "plt.figure(figsize=(5, 3))\n",
    "plt.plot(fpr, tpr, color='b', lw=2, label=f'ROC Curve (AUC = {roc_auc:.2f})')\n",
    "plt.plot([0, 1], [0, 1], color='gray', linestyle='--')\n",
    "plt.xlim([0.0, 1.0])\n",
    "plt.ylim([0.0, 1.05])\n",
    "plt.xlabel('False Positive Rate')\n",
    "plt.ylabel('True Positive Rate')\n",
    "plt.title('Receiver Operating Characteristic (ROC) Curve')\n",
    "plt.legend(loc='lower right')\n",
    "plt.savefig(\"roc_sentiment_Anaylsis.jpeg\", format='jpeg', dpi=400, bbox_inches='tight')\n",
    "plt.show()\n"
   ]
  },
  {
   "cell_type": "code",
   "execution_count": null,
   "id": "e8202480",
   "metadata": {},
   "outputs": [],
   "source": []
  },
  {
   "cell_type": "code",
   "execution_count": null,
   "id": "d505a409",
   "metadata": {},
   "outputs": [],
   "source": []
  },
  {
   "cell_type": "code",
   "execution_count": null,
   "id": "ec2c9974",
   "metadata": {},
   "outputs": [],
   "source": []
  },
  {
   "cell_type": "code",
   "execution_count": null,
   "id": "89ea8dac",
   "metadata": {},
   "outputs": [],
   "source": []
  },
  {
   "cell_type": "code",
   "execution_count": null,
   "id": "2b4ec2b4",
   "metadata": {},
   "outputs": [],
   "source": []
  },
  {
   "cell_type": "code",
   "execution_count": null,
   "id": "5aaa92f5",
   "metadata": {},
   "outputs": [],
   "source": []
  }
 ],
 "metadata": {
  "kernelspec": {
   "display_name": "Python 3 (ipykernel)",
   "language": "python",
   "name": "python3"
  },
  "language_info": {
   "codemirror_mode": {
    "name": "ipython",
    "version": 3
   },
   "file_extension": ".py",
   "mimetype": "text/x-python",
   "name": "python",
   "nbconvert_exporter": "python",
   "pygments_lexer": "ipython3",
   "version": "3.11.5"
  }
 },
 "nbformat": 4,
 "nbformat_minor": 5
}
